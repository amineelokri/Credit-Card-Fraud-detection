{
 "cells": [
  {
   "cell_type": "code",
   "execution_count": 1,
   "metadata": {},
   "outputs": [],
   "source": [
    "import numpy as np\n",
    "import pandas as pd\n",
    "import matplotlib.pyplot as plt\n",
    "import seaborn as sns\n",
    "from sklearn.preprocessing import RobustScaler\n",
    "from sklearn.utils import resample\n",
    "from sklearn.model_selection import train_test_split\n",
    "from sklearn.model_selection import StratifiedShuffleSplit\n",
    "from sklearn.neural_network import MLPClassifier\n",
    "from imblearn.over_sampling import SMOTE\n",
    "from imblearn.under_sampling import RandomUnderSampler\n",
    "from sklearn.model_selection import StratifiedKFold\n",
    "from sklearn.linear_model import LogisticRegression\n",
    "from sklearn.metrics import accuracy_score, precision_score, recall_score, f1_score\n",
    "from sklearn import svm\n",
    "from sklearn.neighbors import KNeighborsClassifier\n",
    "from sklearn.tree import DecisionTreeClassifier\n",
    "from sklearn.model_selection import train_test_split\n",
    "from sklearn.ensemble import AdaBoostClassifier\n",
    "from sklearn.metrics import classification_report"
   ]
  },
  {
   "cell_type": "code",
   "execution_count": 2,
   "metadata": {},
   "outputs": [],
   "source": [
    "df=pd.read_csv('./datasets/creditcard.csv')"
   ]
  },
  {
   "cell_type": "code",
   "execution_count": 3,
   "metadata": {},
   "outputs": [],
   "source": [
    "#scaling\n",
    "rob_scaler = RobustScaler()"
   ]
  },
  {
   "cell_type": "code",
   "execution_count": 4,
   "metadata": {},
   "outputs": [],
   "source": [
    "#scale the columns\n",
    "scaled_amount=rob_scaler.fit_transform(df['Amount'].values.reshape(-1,1))\n",
    "scaled_time=rob_scaler.fit_transform(df['Time'].values.reshape(-1,1))"
   ]
  },
  {
   "cell_type": "code",
   "execution_count": 5,
   "metadata": {},
   "outputs": [],
   "source": [
    "#replace the amount and time with the scaled ones\n",
    "df.drop(['Time','Amount'], axis=1, inplace=True)\n",
    "df.insert(0, 'scaled_amount', scaled_amount)\n",
    "df.insert(1, 'scaled_time', scaled_time)"
   ]
  },
  {
   "cell_type": "code",
   "execution_count": 6,
   "metadata": {},
   "outputs": [],
   "source": [
    "#spliting the data\n",
    "x=df.drop('Class', axis=1)\n",
    "y=df['Class']\n",
    "sfk =StratifiedKFold(n_splits=6, random_state=None, shuffle=False)\n",
    "for train_index, test_index in sfk.split(x, y):\n",
    "    original_Xtrain, original_Xtest = x.iloc[train_index], x.iloc[test_index]\n",
    "    original_ytrain, original_ytest = y.iloc[train_index], y.iloc[test_index]\n",
    "original_Xtrain1 = original_Xtrain.values\n",
    "original_Xtest1 = original_Xtest.values\n",
    "original_ytrain1 = original_ytrain.values\n",
    "original_ytest1 = original_ytest.values"
   ]
  },
  {
   "cell_type": "code",
   "execution_count": 10,
   "metadata": {},
   "outputs": [
    {
     "name": "stderr",
     "output_type": "stream",
     "text": [
      "c:\\Python310\\lib\\site-packages\\sklearn\\linear_model\\_logistic.py:458: ConvergenceWarning: lbfgs failed to converge (status=1):\n",
      "STOP: TOTAL NO. of ITERATIONS REACHED LIMIT.\n",
      "\n",
      "Increase the number of iterations (max_iter) or scale the data as shown in:\n",
      "    https://scikit-learn.org/stable/modules/preprocessing.html\n",
      "Please also refer to the documentation for alternative solver options:\n",
      "    https://scikit-learn.org/stable/modules/linear_model.html#logistic-regression\n",
      "  n_iter_i = _check_optimize_result(\n"
     ]
    }
   ],
   "source": [
    "#evaluate the dataset after scaling data\n",
    "\n",
    "X_train, X_test, y_train, y_test = train_test_split(x, y, test_size=0.2, random_state=42)\n",
    "# Logistic Regression\n",
    "lr_model = LogisticRegression()\n",
    "lr_model.fit(X_train, y_train)\n",
    "lr_pred = lr_model.predict(X_test)\n",
    "# SVM\n",
    "svm_model =svm.SVC()\n",
    "svm_model.fit(X_train, y_train)\n",
    "svm_pred = svm_model.predict(X_test)\n",
    "# k-NN\n",
    "knn_model = KNeighborsClassifier()\n",
    "knn_model.fit(X_train, y_train)\n",
    "knn_pred = knn_model.predict(X_test)\n",
    "# Decision tree\n",
    "decisionTree_model = DecisionTreeClassifier()\n",
    "decisionTree_model.fit(X_train, y_train)\n",
    "decisionTree_pred = decisionTree_model.predict(X_test)\n",
    "# MLP\n",
    "mlp_model =MLPClassifier()\n",
    "mlp_model.fit(X_train, y_train)\n",
    "mlp_pred = mlp_model.predict(X_test)"
   ]
  },
  {
   "cell_type": "code",
   "execution_count": 22,
   "metadata": {},
   "outputs": [
    {
     "ename": "NameError",
     "evalue": "name 'y_test' is not defined",
     "output_type": "error",
     "traceback": [
      "\u001b[1;31m---------------------------------------------------------------------------\u001b[0m",
      "\u001b[1;31mNameError\u001b[0m                                 Traceback (most recent call last)",
      "Cell \u001b[1;32mIn[22], line 3\u001b[0m\n\u001b[0;32m      1\u001b[0m \u001b[39m# Evaluation results\u001b[39;00m\n\u001b[0;32m      2\u001b[0m models \u001b[39m=\u001b[39m [\u001b[39m'\u001b[39m\u001b[39mLogistic Regression\u001b[39m\u001b[39m'\u001b[39m, \u001b[39m'\u001b[39m\u001b[39mSVM\u001b[39m\u001b[39m'\u001b[39m, \u001b[39m'\u001b[39m\u001b[39mk-NN\u001b[39m\u001b[39m'\u001b[39m, \u001b[39m'\u001b[39m\u001b[39mMLP\u001b[39m\u001b[39m'\u001b[39m,\u001b[39m'\u001b[39m\u001b[39mDecision Tree\u001b[39m\u001b[39m'\u001b[39m]\n\u001b[1;32m----> 3\u001b[0m precision_scores \u001b[39m=\u001b[39m [precision_score(y_test, lr_pred), precision_score(y_test, svm_pred), precision_score(y_test, knn_pred), precision_score(y_test, mlp_pred),precision_score(y_test, decisionTree_pred)]\n\u001b[0;32m      4\u001b[0m recall_scores \u001b[39m=\u001b[39m [recall_score(y_test, lr_pred), recall_score(y_test, svm_pred), recall_score(y_test, knn_pred), recall_score(y_test, mlp_pred),recall_score(y_test, decisionTree_pred)]\n\u001b[0;32m      5\u001b[0m f1_scores \u001b[39m=\u001b[39m [f1_score(y_test, lr_pred), f1_score(y_test, svm_pred), f1_score(y_test, knn_pred), f1_score(y_test, mlp_pred),f1_score(y_test, decisionTree_pred)]\n",
      "\u001b[1;31mNameError\u001b[0m: name 'y_test' is not defined"
     ]
    }
   ],
   "source": [
    "# Evaluation results\n",
    "models = ['Logistic Regression', 'SVM', 'k-NN', 'MLP','Decision Tree']\n",
    "precision_scores = [precision_score(y_test, lr_pred), precision_score(y_test, svm_pred), precision_score(y_test, knn_pred), precision_score(y_test, mlp_pred),precision_score(y_test, decisionTree_pred)]\n",
    "recall_scores = [recall_score(y_test, lr_pred), recall_score(y_test, svm_pred), recall_score(y_test, knn_pred), recall_score(y_test, mlp_pred),recall_score(y_test, decisionTree_pred)]\n",
    "f1_scores = [f1_score(y_test, lr_pred), f1_score(y_test, svm_pred), f1_score(y_test, knn_pred), f1_score(y_test, mlp_pred),f1_score(y_test, decisionTree_pred)]\n",
    "# Plotting the evaluation metrics\n",
    "plt.figure(figsize=(10, 6))\n",
    "plt.bar(models, precision_scores, width=0.2, align='edge', label='Precision')\n",
    "plt.bar(models, recall_scores, width=-0.2, align='edge', label='Recall')\n",
    "plt.bar(models, f1_scores, width=-0.2, align='center', label='F1-Score')\n",
    "plt.xlabel('Models')\n",
    "plt.ylabel('Scores')\n",
    "plt.title('Model Evaluation after scaling&&StratifiedKFold')\n",
    "plt.legend()\n",
    "plt.ylim([0, 1])\n",
    "plt.xticks(rotation=45)\n",
    "plt.tight_layout()\n",
    "\n",
    "plt.show()"
   ]
  },
  {
   "cell_type": "code",
   "execution_count": 17,
   "metadata": {},
   "outputs": [
    {
     "name": "stdout",
     "output_type": "stream",
     "text": [
      "['Logistic Regression', 'SVM', 'k-NN', 'MLP', 'Decision Tree']\n",
      "precision_scores [0.8636363636363636, 0.9701492537313433, 0.948051948051948, 0.8541666666666666, 0.7117117117117117]\n",
      "recall_scores [0.5816326530612245, 0.6632653061224489, 0.7448979591836735, 0.8367346938775511, 0.8061224489795918]\n",
      "f1_scores [0.6951219512195121, 0.7878787878787878, 0.8342857142857143, 0.845360824742268, 0.7559808612440191]\n"
     ]
    }
   ],
   "source": [
    "print(models)\n",
    "print(\"precision_scores\",end=\" \")\n",
    "print(precision_scores)\n",
    "print(\"recall_scores\",end=\" \")\n",
    "print(recall_scores)\n",
    "print(\"f1_scores\",end=\" \")\n",
    "print(f1_scores)"
   ]
  },
  {
   "cell_type": "code",
   "execution_count": 11,
   "metadata": {},
   "outputs": [],
   "source": [
    "#Implementation of the training model Boosting\n",
    "#first we will use AdaBoost\n",
    "boosting_model_tree = AdaBoostClassifier(n_estimators=100,learning_rate=1,random_state=123)\n",
    "#fiting the modek\n",
    "boosting_model_tree.fit(original_Xtrain, original_ytrain)\n",
    "#prediction\n",
    "y_pred_tree = boosting_model_tree.predict(original_Xtest)\n"
   ]
  },
  {
   "cell_type": "code",
   "execution_count": 18,
   "metadata": {},
   "outputs": [
    {
     "ename": "TypeError",
     "evalue": "Singleton array 0.26 cannot be considered a valid collection.",
     "output_type": "error",
     "traceback": [
      "\u001b[1;31m---------------------------------------------------------------------------\u001b[0m",
      "\u001b[1;31mTypeError\u001b[0m                                 Traceback (most recent call last)",
      "Cell \u001b[1;32mIn[18], line 7\u001b[0m\n\u001b[0;32m      5\u001b[0m recal_ada_tree\u001b[39m=\u001b[39mrecall_score(original_ytest, y_pred_tree)\n\u001b[0;32m      6\u001b[0m f1_ad_tree\u001b[39m=\u001b[39mf1_score(original_ytest, y_pred_tree)\n\u001b[1;32m----> 7\u001b[0m auc_score_ad_tree\u001b[39m=\u001b[39m auc(\u001b[39mround\u001b[39;49m(recal_ada_tree,\u001b[39m2\u001b[39;49m),\u001b[39mround\u001b[39;49m(precision_ada_tree,\u001b[39m2\u001b[39;49m))\n",
      "File \u001b[1;32mc:\\Python310\\lib\\site-packages\\sklearn\\metrics\\_ranking.py:85\u001b[0m, in \u001b[0;36mauc\u001b[1;34m(x, y)\u001b[0m\n\u001b[0;32m     47\u001b[0m \u001b[39mdef\u001b[39;00m \u001b[39mauc\u001b[39m(x, y):\n\u001b[0;32m     48\u001b[0m \u001b[39m    \u001b[39m\u001b[39m\"\"\"Compute Area Under the Curve (AUC) using the trapezoidal rule.\u001b[39;00m\n\u001b[0;32m     49\u001b[0m \n\u001b[0;32m     50\u001b[0m \u001b[39m    This is a general function, given points on a curve.  For computing the\u001b[39;00m\n\u001b[1;32m   (...)\u001b[0m\n\u001b[0;32m     83\u001b[0m \u001b[39m    0.75\u001b[39;00m\n\u001b[0;32m     84\u001b[0m \u001b[39m    \"\"\"\u001b[39;00m\n\u001b[1;32m---> 85\u001b[0m     check_consistent_length(x, y)\n\u001b[0;32m     86\u001b[0m     x \u001b[39m=\u001b[39m column_or_1d(x)\n\u001b[0;32m     87\u001b[0m     y \u001b[39m=\u001b[39m column_or_1d(y)\n",
      "File \u001b[1;32mc:\\Python310\\lib\\site-packages\\sklearn\\utils\\validation.py:394\u001b[0m, in \u001b[0;36mcheck_consistent_length\u001b[1;34m(*arrays)\u001b[0m\n\u001b[0;32m    383\u001b[0m \u001b[39mdef\u001b[39;00m \u001b[39mcheck_consistent_length\u001b[39m(\u001b[39m*\u001b[39marrays):\n\u001b[0;32m    384\u001b[0m \u001b[39m    \u001b[39m\u001b[39m\"\"\"Check that all arrays have consistent first dimensions.\u001b[39;00m\n\u001b[0;32m    385\u001b[0m \n\u001b[0;32m    386\u001b[0m \u001b[39m    Checks whether all objects in arrays have the same shape or length.\u001b[39;00m\n\u001b[1;32m   (...)\u001b[0m\n\u001b[0;32m    391\u001b[0m \u001b[39m        Objects that will be checked for consistent length.\u001b[39;00m\n\u001b[0;32m    392\u001b[0m \u001b[39m    \"\"\"\u001b[39;00m\n\u001b[1;32m--> 394\u001b[0m     lengths \u001b[39m=\u001b[39m [_num_samples(X) \u001b[39mfor\u001b[39;00m X \u001b[39min\u001b[39;00m arrays \u001b[39mif\u001b[39;00m X \u001b[39mis\u001b[39;00m \u001b[39mnot\u001b[39;00m \u001b[39mNone\u001b[39;00m]\n\u001b[0;32m    395\u001b[0m     uniques \u001b[39m=\u001b[39m np\u001b[39m.\u001b[39munique(lengths)\n\u001b[0;32m    396\u001b[0m     \u001b[39mif\u001b[39;00m \u001b[39mlen\u001b[39m(uniques) \u001b[39m>\u001b[39m \u001b[39m1\u001b[39m:\n",
      "File \u001b[1;32mc:\\Python310\\lib\\site-packages\\sklearn\\utils\\validation.py:394\u001b[0m, in \u001b[0;36m<listcomp>\u001b[1;34m(.0)\u001b[0m\n\u001b[0;32m    383\u001b[0m \u001b[39mdef\u001b[39;00m \u001b[39mcheck_consistent_length\u001b[39m(\u001b[39m*\u001b[39marrays):\n\u001b[0;32m    384\u001b[0m \u001b[39m    \u001b[39m\u001b[39m\"\"\"Check that all arrays have consistent first dimensions.\u001b[39;00m\n\u001b[0;32m    385\u001b[0m \n\u001b[0;32m    386\u001b[0m \u001b[39m    Checks whether all objects in arrays have the same shape or length.\u001b[39;00m\n\u001b[1;32m   (...)\u001b[0m\n\u001b[0;32m    391\u001b[0m \u001b[39m        Objects that will be checked for consistent length.\u001b[39;00m\n\u001b[0;32m    392\u001b[0m \u001b[39m    \"\"\"\u001b[39;00m\n\u001b[1;32m--> 394\u001b[0m     lengths \u001b[39m=\u001b[39m [_num_samples(X) \u001b[39mfor\u001b[39;00m X \u001b[39min\u001b[39;00m arrays \u001b[39mif\u001b[39;00m X \u001b[39mis\u001b[39;00m \u001b[39mnot\u001b[39;00m \u001b[39mNone\u001b[39;00m]\n\u001b[0;32m    395\u001b[0m     uniques \u001b[39m=\u001b[39m np\u001b[39m.\u001b[39munique(lengths)\n\u001b[0;32m    396\u001b[0m     \u001b[39mif\u001b[39;00m \u001b[39mlen\u001b[39m(uniques) \u001b[39m>\u001b[39m \u001b[39m1\u001b[39m:\n",
      "File \u001b[1;32mc:\\Python310\\lib\\site-packages\\sklearn\\utils\\validation.py:335\u001b[0m, in \u001b[0;36m_num_samples\u001b[1;34m(x)\u001b[0m\n\u001b[0;32m    333\u001b[0m \u001b[39mif\u001b[39;00m \u001b[39mhasattr\u001b[39m(x, \u001b[39m\"\u001b[39m\u001b[39mshape\u001b[39m\u001b[39m\"\u001b[39m) \u001b[39mand\u001b[39;00m x\u001b[39m.\u001b[39mshape \u001b[39mis\u001b[39;00m \u001b[39mnot\u001b[39;00m \u001b[39mNone\u001b[39;00m:\n\u001b[0;32m    334\u001b[0m     \u001b[39mif\u001b[39;00m \u001b[39mlen\u001b[39m(x\u001b[39m.\u001b[39mshape) \u001b[39m==\u001b[39m \u001b[39m0\u001b[39m:\n\u001b[1;32m--> 335\u001b[0m         \u001b[39mraise\u001b[39;00m \u001b[39mTypeError\u001b[39;00m(\n\u001b[0;32m    336\u001b[0m             \u001b[39m\"\u001b[39m\u001b[39mSingleton array \u001b[39m\u001b[39m%r\u001b[39;00m\u001b[39m cannot be considered a valid collection.\u001b[39m\u001b[39m\"\u001b[39m \u001b[39m%\u001b[39m x\n\u001b[0;32m    337\u001b[0m         )\n\u001b[0;32m    338\u001b[0m     \u001b[39m# Check that shape is returning an integer or default to len\u001b[39;00m\n\u001b[0;32m    339\u001b[0m     \u001b[39m# Dask dataframes may not return numeric shape[0] value\u001b[39;00m\n\u001b[0;32m    340\u001b[0m     \u001b[39mif\u001b[39;00m \u001b[39misinstance\u001b[39m(x\u001b[39m.\u001b[39mshape[\u001b[39m0\u001b[39m], numbers\u001b[39m.\u001b[39mIntegral):\n",
      "\u001b[1;31mTypeError\u001b[0m: Singleton array 0.26 cannot be considered a valid collection."
     ]
    }
   ],
   "source": [
    "#evaluation\n",
    "\n",
    "precision_ada_tree=precision_score(original_ytest, y_pred_tree)\n",
    "recal_ada_tree=recall_score(original_ytest, y_pred_tree)\n",
    "f1_ad_tree=f1_score(original_ytest, y_pred_tree)\n"
   ]
  },
  {
   "cell_type": "code",
   "execution_count": 12,
   "metadata": {},
   "outputs": [
    {
     "name": "stdout",
     "output_type": "stream",
     "text": [
      "1.0\n",
      "0.25609756097560976\n",
      "0.4077669902912621\n"
     ]
    }
   ],
   "source": [
    "print(precision_ada_tree)\n",
    "print(recal_ada_tree)\n",
    "print(f1_ad_tree)"
   ]
  },
  {
   "cell_type": "code",
   "execution_count": 7,
   "metadata": {},
   "outputs": [],
   "source": [
    "import xgboost as xgb\n",
    "import lightgbm as lgb\n",
    "from sklearn.ensemble import GradientBoostingClassifier\n"
   ]
  },
  {
   "cell_type": "code",
   "execution_count": 13,
   "metadata": {},
   "outputs": [],
   "source": [
    "# XGBoost\n",
    "boosting_model_xgboost = xgb.XGBClassifier(n_estimators=100)\n",
    "boosting_model_xgboost.fit(original_Xtrain, original_ytrain)\n",
    "y_pred_xgboost = boosting_model_xgboost.predict(original_Xtest)\n",
    "# LightGBM\n",
    "boosting_model_lightgbm = lgb.LGBMClassifier(n_estimators=100)\n",
    "boosting_model_lightgbm.fit(original_Xtrain, original_ytrain)\n",
    "y_pred_lightgbm = boosting_model_lightgbm.predict(original_Xtest)\n",
    "# GBM (Gradient Boosting Machine)\n",
    "boosting_model_gbm = GradientBoostingClassifier(n_estimators=100)\n",
    "boosting_model_gbm.fit(original_Xtrain, original_ytrain)\n",
    "y_pred_gbm = boosting_model_gbm.predict(original_Xtest)\n",
    "#Gradient Boosting\n",
    "boosting_model_sklearn = GradientBoostingClassifier(n_estimators=100)\n",
    "boosting_model_sklearn.fit(original_Xtrain, original_ytrain)\n",
    "y_pred_sklearn = boosting_model_sklearn.predict(original_Xtest)\n"
   ]
  },
  {
   "cell_type": "code",
   "execution_count": 15,
   "metadata": {},
   "outputs": [],
   "source": [
    "\n",
    "precision_sklearn=precision_score(original_ytest, y_pred_sklearn)\n",
    "recal_sklearn=recall_score(original_ytest, y_pred_sklearn)\n",
    "f1_sklearn=f1_score(original_ytest, y_pred_sklearn)\n",
    "\n",
    "precision_gbm=precision_score(original_ytest, y_pred_gbm)\n",
    "recal_gbm=recall_score(original_ytest, y_pred_gbm)\n",
    "f1_gbm=f1_score(original_ytest, y_pred_gbm)\n",
    "\n",
    "precision_xgboost=precision_score(original_ytest, y_pred_xgboost)\n",
    "recal_xgboost=recall_score(original_ytest, y_pred_xgboost)\n",
    "f1_xgboost=f1_score(original_ytest, y_pred_xgboost)\n",
    "\n",
    "precision_lightgbmt=precision_score(original_ytest, y_pred_lightgbm)\n",
    "recal_lightgbm=recall_score(original_ytest, y_pred_lightgbm)\n",
    "f1_lightgbm=f1_score(original_ytest, y_pred_lightgbm)\n"
   ]
  },
  {
   "cell_type": "code",
   "execution_count": 19,
   "metadata": {},
   "outputs": [],
   "source": [
    "\n",
    "models = ['AdaBoost', 'Gradient Boosting', 'GBM', 'LightGBM','XGBOOST']\n",
    "precision_scores = [precision_ada_tree, precision_sklearn, precision_gbm, precision_lightgbmt,precision_xgboost]\n",
    "recall_scores = [recal_ada_tree,recal_sklearn, recal_gbm, recal_lightgbm, recal_xgboost]\n",
    "f1_scores = [f1_ad_tree,f1_sklearn, f1_gbm, f1_lightgbm, f1_xgboost]"
   ]
  },
  {
   "cell_type": "code",
   "execution_count": 20,
   "metadata": {},
   "outputs": [
    {
     "name": "stdout",
     "output_type": "stream",
     "text": [
      "['AdaBoost', 'Gradient Boosting', 'GBM', 'LightGBM', 'XGBOOST']\n",
      "precision_scores [1.0, 0.9038461538461539, 0.9038461538461539, 0.4778761061946903, 0.9836065573770492]\n",
      "recall_scores [0.25609756097560976, 0.573170731707317, 0.573170731707317, 0.6585365853658537, 0.7317073170731707]\n",
      "f1_scores [0.4077669902912621, 0.7014925373134329, 0.7014925373134329, 0.553846153846154, 0.8391608391608392]\n"
     ]
    }
   ],
   "source": [
    "print(models)\n",
    "print(\"precision_scores\",end=\" \")\n",
    "print(precision_scores)\n",
    "print(\"recall_scores\",end=\" \")\n",
    "print(recall_scores)\n",
    "print(\"f1_scores\",end=\" \")\n",
    "print(f1_scores)"
   ]
  },
  {
   "cell_type": "code",
   "execution_count": 21,
   "metadata": {},
   "outputs": [
    {
     "data": {
      "image/png": "[encoded data removed]",
      "text/plain": [
       "<Figure size 1000x600 with 1 Axes>"
      ]
     },
     "metadata": {},
     "output_type": "display_data"
    }
   ],
   "source": [
    "plt.figure(figsize=(10, 6))\n",
    "plt.bar(models, precision_scores, width=0.2, align='edge', label='Precision')\n",
    "plt.bar(models, recall_scores, width=-0.2, align='edge', label='Recall')\n",
    "plt.bar(models, f1_scores, width=-0.2, align='center', label='F1-Score')\n",
    "plt.xlabel('Models')\n",
    "plt.ylabel('Scores')\n",
    "plt.title('Ensemble Models Evaluation')\n",
    "plt.legend()\n",
    "plt.ylim([0, 1])\n",
    "plt.xticks(rotation=45)\n",
    "plt.tight_layout()\n",
    "\n",
    "plt.show()"
   ]
  }
 ],
 "metadata": {
  "kernelspec": {
   "display_name": "Python 3",
   "language": "python",
   "name": "python3"
  },
  "language_info": {
   "codemirror_mode": {
    "name": "ipython",
    "version": 3
   },
   "file_extension": ".py",
   "mimetype": "text/x-python",
   "name": "python",
   "nbconvert_exporter": "python",
   "pygments_lexer": "ipython3",
   "version": "3.10.5"
  },
  "orig_nbformat": 4
 },
 "nbformat": 4,
 "nbformat_minor": 2
}
